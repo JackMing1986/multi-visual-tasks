{
 "cells": [
  {
   "cell_type": "code",
   "execution_count": null,
   "id": "charitable-brook",
   "metadata": {},
   "outputs": [],
   "source": [
    "import cv2\n",
    "import json\n",
    "import numpy as np\n",
    "from pathlib import Path\n",
    "import matplotlib.pyplot as plt"
   ]
  },
  {
   "cell_type": "code",
   "execution_count": null,
   "id": "engaged-emphasis",
   "metadata": {},
   "outputs": [],
   "source": [
    "data_dir = Path('../data/test/')\n",
    "subset = 'a'\n",
    "json_ref_file = data_dir / 'b_annotations.json'\n",
    "json_pred_file = Path('../submit/out_top_5.json')"
   ]
  },
  {
   "cell_type": "code",
   "execution_count": null,
   "id": "powerful-private",
   "metadata": {},
   "outputs": [],
   "source": [
    "with open(str(json_pred_file), 'r') as f:\n",
    "    preds = json.load(f)\n",
    "\n",
    "imgs = preds['images']\n",
    "annotations = preds['annotations']\n",
    "\n",
    "with open(str(json_ref_file), 'r') as f:\n",
    "    refs = json.load(f)\n",
    "    \n",
    "categories = refs['categories']"
   ]
  },
  {
   "cell_type": "code",
   "execution_count": null,
   "id": "presidential-cartridge",
   "metadata": {},
   "outputs": [],
   "source": [
    "num_classes = len(categories)\n",
    "classes = []\n",
    "class_ids = []\n",
    "for category in categories:\n",
    "    classes.append(category['name'])\n",
    "    class_ids.append(category['id'])\n",
    "\n",
    "class_ids = np.array(class_ids)\n",
    "classes = np.array(classes)"
   ]
  },
  {
   "cell_type": "code",
   "execution_count": null,
   "id": "injured-classroom",
   "metadata": {},
   "outputs": [],
   "source": [
    "def get_image_annotation(index):\n",
    "    img_info = imgs[index]\n",
    "    img_name = img_info['file_name']\n",
    "    img_path = data_dir / '{}_images'.format(subset) / img_name\n",
    "    img_id = img_info['id']\n",
    "    bbox_list = []\n",
    "    cls_list = []\n",
    "    for gt in annotations:\n",
    "        if gt['image_id'] == img_id:\n",
    "            bbox = gt['bbox']\n",
    "            cls_id = gt['category_id']\n",
    "            bbox_list.append(bbox)\n",
    "            cls_list.append(cls_id)\n",
    "    return {'img_path': img_path, 'bbox_list': bbox_list, 'cls_list': cls_list}"
   ]
  },
  {
   "cell_type": "code",
   "execution_count": null,
   "id": "saving-recorder",
   "metadata": {},
   "outputs": [],
   "source": [
    "colors = np.random.randint(0, 255, size=(classes.shape[0], 3), dtype=np.uint8)\n",
    "plt.rcParams['figure.figsize'] = [22, 15]\n",
    "\n",
    "def show_example(example_index):\n",
    "    gt_dict = get_image_annotation(example_index)\n",
    "    img_path = gt_dict['img_path']\n",
    "    bbox_list = gt_dict['bbox_list']\n",
    "    cls_list = gt_dict['cls_list']\n",
    "    img = cv2.imread(str(img_path))\n",
    "    for i, bbox in enumerate(bbox_list):\n",
    "        cls_id = cls_list[i]\n",
    "        cls_name = classes[cls_id]\n",
    "        x1, y1, w, h = bbox\n",
    "        color = colors[cls_id].tolist()\n",
    "        cv2.rectangle(img, (x1, y1), (x1+w, y1+h), color, 3)\n",
    "        cv2.putText(img, cls_name, (x1+10, y1 + 25), cv2.FONT_HERSHEY_SIMPLEX, 0.5, color, 1)\n",
    "    \n",
    "    plt.imshow(cv2.cvtColor(img, cv2.COLOR_BGR2RGB))\n",
    "    print(img.shape)\n",
    "    plt.show()"
   ]
  },
  {
   "cell_type": "code",
   "execution_count": null,
   "id": "correct-calendar",
   "metadata": {},
   "outputs": [],
   "source": [
    "show_example(103)"
   ]
  }
 ],
 "metadata": {
  "kernelspec": {
   "display_name": "Python 3",
   "language": "python",
   "name": "python3"
  },
  "language_info": {
   "codemirror_mode": {
    "name": "ipython",
    "version": 3
   },
   "file_extension": ".py",
   "mimetype": "text/x-python",
   "name": "python",
   "nbconvert_exporter": "python",
   "pygments_lexer": "ipython3",
   "version": "3.8.5"
  }
 },
 "nbformat": 4,
 "nbformat_minor": 5
}
