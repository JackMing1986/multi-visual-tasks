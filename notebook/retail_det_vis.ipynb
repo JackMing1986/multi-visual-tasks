{
 "cells": [
  {
   "cell_type": "markdown",
   "id": "disciplinary-converter",
   "metadata": {},
   "source": [
    "## Visualization of Retail Detections"
   ]
  },
  {
   "cell_type": "code",
   "execution_count": null,
   "id": "maritime-actor",
   "metadata": {},
   "outputs": [],
   "source": [
    "import cv2\n",
    "import json\n",
    "import numpy as np\n",
    "from pathlib import Path\n",
    "import matplotlib.pyplot as plt"
   ]
  },
  {
   "cell_type": "code",
   "execution_count": null,
   "id": "dirty-shape",
   "metadata": {},
   "outputs": [],
   "source": [
    "def load_json(json_det_file):\n",
    "    with open(str(json_det_file), 'r') as f:\n",
    "        dets_dict = json.load(f)\n",
    "    \n",
    "    return dets_dict"
   ]
  },
  {
   "cell_type": "code",
   "execution_count": null,
   "id": "numeric-parallel",
   "metadata": {},
   "outputs": [],
   "source": [
    "data_dir = Path('../data/test/')\n",
    "subset = 'a'\n",
    "model_names = ['yolov4_6a_retail_one_best', 'yolov4_9a_retail_one_140', 'yolov4_9a_retail_one_200']\n",
    "\n",
    "dets_models = []\n",
    "for model_name in model_names:\n",
    "    det_file = data_dir / '{}_det_{}.json'.format(subset, model_name)\n",
    "    dets = load_json(det_file)\n",
    "    dets['model_name'] = model_name\n",
    "    dets_models.append(dets)"
   ]
  },
  {
   "cell_type": "code",
   "execution_count": null,
   "id": "adverse-massage",
   "metadata": {},
   "outputs": [],
   "source": [
    "def get_detections(index, subset, dets):\n",
    "    img_info = dets['images'][index]\n",
    "    img_name = img_info['file_name']\n",
    "    img_id = img_info['id']\n",
    "    img_path = data_dir / '{}_images'.format(subset) / img_name\n",
    "    \n",
    "    bbox_list = []\n",
    "    score_list = []\n",
    "    for det in dets['annotations']:\n",
    "        if det['image_id'] == img_id:\n",
    "            bbox = det['bbox']\n",
    "            score = det.get('score', 0.0)\n",
    "            bbox_list.append(bbox)\n",
    "            score_list.append(score)\n",
    "    return {'img_path': img_path, 'bbox_list': bbox_list, 'score_list': score_list}"
   ]
  },
  {
   "cell_type": "code",
   "execution_count": null,
   "id": "figured-wiring",
   "metadata": {},
   "outputs": [],
   "source": [
    "plt.rcParams['figure.figsize'] = [30, 10]\n",
    "# colors = np.random.randint(0, 255, size=(200, 3), dtype=np.uint8)\n",
    "\n",
    "def show_detection(img_index, subset, dets_models, show_score_thr = 0.0, color = (85, 138, 29), show_score=True):\n",
    "    fig, ax = plt.subplots(1, len(dets_models))\n",
    "    \n",
    "    for model_id, dets in enumerate(dets_models):\n",
    "        det_dict = get_detections(img_index, subset, dets)\n",
    "        img_path = det_dict['img_path']\n",
    "        bbox_list = det_dict['bbox_list']\n",
    "        score_list = det_dict['score_list']\n",
    "        \n",
    "        img = cv2.imread(str(img_path))\n",
    "        for i, bbox in enumerate(bbox_list):\n",
    "            score = score_list[i]\n",
    "            if score < show_score_thr:\n",
    "                continue\n",
    "                \n",
    "            x1, y1, w, h = bbox\n",
    "            cv2.rectangle(img, (x1, y1), (x1+w, y1+h), color, 3)\n",
    "            if show_score:\n",
    "                cv2.putText(img, '{:.2f}'.format(score), (int(x1 + w/2) - 10, int(y1 + h / 2)), cv2.FONT_HERSHEY_SIMPLEX, 0.5, color, 2)\n",
    "    \n",
    "        cv2.putText(img, '{}'.format(img_index), (50, 80), cv2.FONT_HERSHEY_SIMPLEX, 2, color, 2)\n",
    "        ax[model_id].set_title(dets['model_name'])\n",
    "        ax[model_id].imshow(cv2.cvtColor(img, cv2.COLOR_BGR2RGB))\n",
    "        ax[model_id].set_xticks([])\n",
    "        ax[model_id].set_yticks([])\n",
    "    \n",
    "    plt.tight_layout()\n",
    "    plt.show()"
   ]
  },
  {
   "cell_type": "code",
   "execution_count": null,
   "id": "measured-quarter",
   "metadata": {},
   "outputs": [],
   "source": [
    "# 漏检\n",
    "for idx in [574, 193, 745, 374, 1022, 1026, 1271, 982]:\n",
    "    show_detection(idx, subset, dets_models, show_score_thr = 0.1)"
   ]
  },
  {
   "cell_type": "code",
   "execution_count": null,
   "id": "unusual-offense",
   "metadata": {},
   "outputs": [],
   "source": [
    "# 误检\n",
    "for idx in [489, 1308, 903, 1038, 1021, 521, 958]:\n",
    "    show_detection(idx, subset, dets_models, show_score_thr = 0.1)"
   ]
  },
  {
   "cell_type": "code",
   "execution_count": null,
   "id": "varying-gather",
   "metadata": {},
   "outputs": [],
   "source": [
    "# 定位\n",
    "for idx in [450, 253, 1044]:\n",
    "    show_detection(idx, subset, dets_models, show_score_thr = 0.1)"
   ]
  },
  {
   "cell_type": "code",
   "execution_count": null,
   "id": "gorgeous-interference",
   "metadata": {},
   "outputs": [],
   "source": [
    "num_images = len(dets_models[0]['images'])\n",
    "idx = np.random.randint(num_images)\n",
    "print(idx)\n",
    "show_detection(idx, subset, dets_models, show_score_thr = 0.1)"
   ]
  }
 ],
 "metadata": {
  "kernelspec": {
   "display_name": "Python 3",
   "language": "python",
   "name": "python3"
  },
  "language_info": {
   "codemirror_mode": {
    "name": "ipython",
    "version": 3
   },
   "file_extension": ".py",
   "mimetype": "text/x-python",
   "name": "python",
   "nbconvert_exporter": "python",
   "pygments_lexer": "ipython3",
   "version": "3.8.5"
  }
 },
 "nbformat": 4,
 "nbformat_minor": 5
}
