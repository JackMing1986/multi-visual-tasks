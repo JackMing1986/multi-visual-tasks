{
 "cells": [
  {
   "cell_type": "code",
   "execution_count": null,
   "id": "later-occupation",
   "metadata": {},
   "outputs": [],
   "source": [
    "import cv2\n",
    "import json\n",
    "import numpy as np\n",
    "from pathlib import Path\n",
    "import matplotlib.pyplot as plt"
   ]
  },
  {
   "cell_type": "code",
   "execution_count": null,
   "id": "excess-charger",
   "metadata": {},
   "outputs": [],
   "source": [
    "def load_json(json_file):\n",
    "    with open(str(json_file), 'r') as f:\n",
    "        preds = json.load(f)\n",
    "    return preds"
   ]
  },
  {
   "cell_type": "code",
   "execution_count": null,
   "id": "tough-reverse",
   "metadata": {},
   "outputs": [],
   "source": [
    "data_dir = Path('../data/test/')\n",
    "json_dir = Path('../submit/')\n",
    "\n",
    "subset = 'a'\n",
    "names = ['submit_det_yolov4_a9_retail_one_200_emb_resnet50_mlp_loc_retail_50_top_1', 'submit_det_yolov4_a9_retail_one_200_emb_resnet50_mlp_loc_retail_50_top_5']\n",
    "\n",
    "dets_models = []\n",
    "for name in names:\n",
    "    json_file = json_dir / '{}.json'.format(name)\n",
    "    preds = load_json(json_file)\n",
    "    preds['model_name'] = name\n",
    "    dets_models.append(preds)"
   ]
  },
  {
   "cell_type": "code",
   "execution_count": null,
   "id": "beautiful-somerset",
   "metadata": {},
   "outputs": [],
   "source": [
    "# load categories from reference set\n",
    "ref_json_file = data_dir / 'b_annotations.json'\n",
    "refs = load_json(ref_json_file)\n",
    "categories = refs['categories']\n",
    "\n",
    "num_classes = len(categories)\n",
    "classes = []\n",
    "class_ids = []\n",
    "for category in categories:\n",
    "    classes.append(category['name'])\n",
    "    class_ids.append(category['id'])\n",
    "\n",
    "class_ids = np.array(class_ids)\n",
    "CLASSES = np.array(classes)"
   ]
  },
  {
   "cell_type": "code",
   "execution_count": null,
   "id": "focal-pound",
   "metadata": {},
   "outputs": [],
   "source": [
    "def get_detections(index, subset, dets):\n",
    "    img_info = dets['images'][index]\n",
    "    img_name = img_info['file_name']\n",
    "    img_id = img_info['id']\n",
    "    img_path = data_dir / '{}_images'.format(subset) / img_name\n",
    "    \n",
    "    bbox_list = []\n",
    "    score_list = []\n",
    "    cls_list = []\n",
    "    for det in dets['annotations']:\n",
    "        if det['image_id'] == img_id:\n",
    "            bbox = det['bbox']\n",
    "            cls_id = det['category_id']\n",
    "            score = det.get('score', 0.0)\n",
    "            bbox_list.append(bbox)\n",
    "            cls_list.append(cls_id)\n",
    "            score_list.append(score)\n",
    "    return {'img_path': img_path, 'bbox_list': bbox_list, 'score_list': score_list, 'cls_list': cls_list}"
   ]
  },
  {
   "cell_type": "code",
   "execution_count": null,
   "id": "otherwise-density",
   "metadata": {},
   "outputs": [],
   "source": [
    "def get_product_annotation(index, refs):\n",
    "    imgs_ref = refs['images']\n",
    "    img_path = ''\n",
    "    for img_info in imgs_ref:\n",
    "        img_id = img_info['id']\n",
    "        if img_id == index:\n",
    "            img_name = img_info['file_name']\n",
    "            img_path = data_dir / 'b_images' / img_name\n",
    "            break\n",
    "    \n",
    "    if img_path == '':\n",
    "        print('Product image with index {} not found'.format(index))\n",
    "        return\n",
    "    \n",
    "    bbox_list = []\n",
    "    cls_list = []\n",
    "    for gt in refs['annotations']:\n",
    "        if gt['image_id'] == index:\n",
    "            bbox = gt['bbox']\n",
    "            cls_id = gt['category_id']\n",
    "            bbox_list.append(bbox)\n",
    "            cls_list.append(cls_id)\n",
    "    return {'img_path': img_path, 'bbox_list': bbox_list, 'cls_list': cls_list}"
   ]
  },
  {
   "cell_type": "code",
   "execution_count": null,
   "id": "visible-flavor",
   "metadata": {},
   "outputs": [],
   "source": [
    "np.random.seed(1234)\n",
    "colors = np.random.randint(0, 255, size=(CLASSES.shape[0], 3), dtype=np.uint8)\n",
    "plt.rcParams['figure.figsize'] = [14, 7]"
   ]
  },
  {
   "cell_type": "code",
   "execution_count": null,
   "id": "cognitive-hardware",
   "metadata": {},
   "outputs": [],
   "source": [
    "def show_detection(img_index, subset, dets_models, show_score_thr = 0.0,show_score=True):\n",
    "    fig, ax = plt.subplots(1, len(dets_models))\n",
    "    \n",
    "    for model_id, dets in enumerate(dets_models):\n",
    "        det_dict = get_detections(img_index, subset, dets)\n",
    "        img_path = det_dict['img_path']\n",
    "        bbox_list = det_dict['bbox_list']\n",
    "        score_list = det_dict['score_list']\n",
    "        cls_list = det_dict['cls_list']\n",
    "        \n",
    "        img = cv2.imread(str(img_path))\n",
    "        for i, bbox in enumerate(bbox_list):\n",
    "            score = score_list[i]\n",
    "            if score < show_score_thr:\n",
    "                continue\n",
    "                \n",
    "            x1, y1, w, h = bbox\n",
    "            cls_id = cls_list[i]\n",
    "            color = colors[cls_id].tolist()\n",
    "            cv2.rectangle(img, (x1, y1), (x1+w, y1+h), color, 3)\n",
    "            cls_name = CLASSES[cls_id]\n",
    "            cv2.putText(img, cls_name, (x1+10, y1 + 25), cv2.FONT_HERSHEY_SIMPLEX, 0.5, color, 1)\n",
    "            \n",
    "            if show_score:\n",
    "                cv2.putText(img, '{:.2f}'.format(score), (int(x1 + w/2) - 10, int(y1 + h / 2)), cv2.FONT_HERSHEY_SIMPLEX, 0.5, color, 2)\n",
    "    \n",
    "        cv2.putText(img, '{}'.format(img_index), (50, 80), cv2.FONT_HERSHEY_SIMPLEX, 2, (255, 255, 255), 2)\n",
    "        ax[model_id].set_title(dets['model_name'])\n",
    "        ax[model_id].imshow(cv2.cvtColor(img, cv2.COLOR_BGR2RGB))\n",
    "        ax[model_id].set_xticks([])\n",
    "        ax[model_id].set_yticks([])\n",
    "    \n",
    "    plt.tight_layout()\n",
    "    plt.show()"
   ]
  },
  {
   "cell_type": "code",
   "execution_count": null,
   "id": "directed-shanghai",
   "metadata": {},
   "outputs": [],
   "source": [
    "for idx in [1000, 574, 305, 352, 959, 1057, 377, 854, 781, 1026, 932, 745, 1307, 1096, 189, 1159, 84]:\n",
    "    show_detection(idx, subset, dets_models, show_score_thr = 0.0)"
   ]
  },
  {
   "cell_type": "code",
   "execution_count": null,
   "id": "gross-attraction",
   "metadata": {},
   "outputs": [],
   "source": [
    "def show_products(product_ids, refs):\n",
    "    for cls_id in product_ids:\n",
    "        img_id = product_ids[cls_id]\n",
    "        gt_dict = get_product_annotation(img_id, refs)\n",
    "        img_path = gt_dict['img_path']\n",
    "        bbox_list = gt_dict['bbox_list']\n",
    "        cls_list = gt_dict['cls_list']\n",
    "        img = cv2.imread(str(img_path))\n",
    "        for i, bbox in enumerate(bbox_list):\n",
    "            cls_id = cls_list[i]\n",
    "            cls_name = classes[cls_id]\n",
    "            x1, y1, w, h = bbox\n",
    "            color = colors[cls_id].tolist()\n",
    "            cv2.rectangle(img, (x1, y1), (x1+w, y1+h), color, 3)\n",
    "            cv2.putText(img, cls_name, (x1+10, y1 + 25), cv2.FONT_HERSHEY_SIMPLEX, 0.5, color, 1)\n",
    "        plt.imshow(cv2.cvtColor(img, cv2.COLOR_BGR2RGB))\n",
    "        plt.show()"
   ]
  },
  {
   "cell_type": "code",
   "execution_count": null,
   "id": "posted-relative",
   "metadata": {},
   "outputs": [],
   "source": [
    "def find_products_with_class(cls_ids_example, refs):\n",
    "    product_ids = {}\n",
    "    for ann in refs['annotations']:\n",
    "        cls_id = ann['category_id']\n",
    "        img_id = ann['image_id']\n",
    "        if cls_id in cls_ids_example and cls_id not in product_ids:\n",
    "            product_ids[cls_id] = img_id\n",
    "    return product_ids"
   ]
  },
  {
   "cell_type": "code",
   "execution_count": null,
   "id": "disciplinary-utility",
   "metadata": {},
   "outputs": [],
   "source": [
    "num_images = len(dets_models[0]['images'])\n",
    "idx = np.random.randint(num_images)\n",
    "print(idx)\n",
    "show_detection(1022, subset, dets_models, show_score_thr = 0.1)\n",
    "#product_ids = find_products_with_class(cls_ids_example)\n",
    "#show_products(product_ids)"
   ]
  }
 ],
 "metadata": {
  "kernelspec": {
   "display_name": "Python 3",
   "language": "python",
   "name": "python3"
  },
  "language_info": {
   "codemirror_mode": {
    "name": "ipython",
    "version": 3
   },
   "file_extension": ".py",
   "mimetype": "text/x-python",
   "name": "python",
   "nbconvert_exporter": "python",
   "pygments_lexer": "ipython3",
   "version": "3.8.5"
  }
 },
 "nbformat": 4,
 "nbformat_minor": 5
}
